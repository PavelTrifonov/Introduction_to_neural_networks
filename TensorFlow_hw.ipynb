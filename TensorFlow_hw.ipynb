{
  "nbformat": 4,
  "nbformat_minor": 0,
  "metadata": {
    "colab": {
      "provenance": []
    },
    "kernelspec": {
      "name": "python3",
      "display_name": "Python 3"
    },
    "language_info": {
      "name": "python"
    }
  },
  "cells": [
    {
      "cell_type": "markdown",
      "source": [
        " ### Попробуйте обучить нейронную сеть на TensorFlow 2 на датасете imdb_reviews."
      ],
      "metadata": {
        "id": "fSGaDo1fhEff"
      }
    },
    {
      "cell_type": "code",
      "source": [
        "import tensorflow as tf\n",
        "from tensorflow.keras import layers, models\n",
        "import tensorflow_datasets as tfds"
      ],
      "metadata": {
        "id": "WhLGE0y7W7Ic"
      },
      "execution_count": 17,
      "outputs": []
    },
    {
      "cell_type": "code",
      "source": [
        "# Загрузка и подготовка данных\n",
        "dataset, info = tfds.load(\"imdb_reviews\", with_info=True, as_supervised=True)\n",
        "train_data, test_data = dataset['train'], dataset['test']"
      ],
      "metadata": {
        "id": "eDF9mTPEW8jn"
      },
      "execution_count": 18,
      "outputs": []
    },
    {
      "cell_type": "code",
      "source": [
        "for text, label in train_data.take(1):\n",
        "    print(f\"Review: {text.numpy()}\")\n",
        "    print(f\"Label: {label.numpy()}\\n\")\n"
      ],
      "metadata": {
        "colab": {
          "base_uri": "https://localhost:8080/"
        },
        "id": "qydRkck9gEOA",
        "outputId": "64758cfc-20e8-4a35-d141-84156b7ae58a"
      },
      "execution_count": 34,
      "outputs": [
        {
          "output_type": "stream",
          "name": "stdout",
          "text": [
            "Review: [[  48    2 1100 ...   13 1040 2929]\n",
            " [  10  142  132 ...    5   51   10]\n",
            " [  11    7  401 ...    0    0    0]\n",
            " ...\n",
            " [  11    7    4 ...    0    0    0]\n",
            " [  51 2268  137 ...    2  127  759]\n",
            " [  29  572   12 ...   15    2  695]]\n",
            "Label: [0 1 1 0 0 1 1 0 1 1 0 1 1 1 1 1 1 0 0 0 0 1 1 1 1 1 0 0 0 1 1 1 1 0 1 0 1\n",
            " 1 1 0 1 1 1 0 0 1 1 1 1 1 1 0 1 0 1 0 0 1 0 0 1 1 0 0]\n",
            "\n"
          ]
        }
      ]
    },
    {
      "cell_type": "code",
      "source": [
        "# Функция для предварительной обработки данных\n",
        "def preprocess(text, label):\n",
        "    text = tf.strings.regex_replace(text, rb\"<br\\s*/?>\", b\" \")\n",
        "    text = tf.strings.regex_replace(text, b\"[^a-zA-Z']\", b\" \")\n",
        "    return text, label\n"
      ],
      "metadata": {
        "id": "vzNkD1pDXEc_"
      },
      "execution_count": 19,
      "outputs": []
    },
    {
      "cell_type": "code",
      "source": [
        "train_data = train_data.map(preprocess)\n",
        "test_data = test_data.map(preprocess)"
      ],
      "metadata": {
        "id": "6gq8J0YAXOr7"
      },
      "execution_count": 20,
      "outputs": []
    },
    {
      "cell_type": "code",
      "source": [
        "# Параметры\n",
        "BUFFER_SIZE = 10000\n",
        "BATCH_SIZE = 64\n",
        "VOCAB_SIZE = 10000\n",
        "EMBEDDING_DIM = 64\n",
        "MAX_LENGTH = 200"
      ],
      "metadata": {
        "id": "WmYXMkm5XeIC"
      },
      "execution_count": 21,
      "outputs": []
    },
    {
      "cell_type": "code",
      "source": [
        "# Создание текстового векторизатора\n",
        "vectorize_layer = layers.TextVectorization(\n",
        "    max_tokens=VOCAB_SIZE,\n",
        "    output_mode='int',\n",
        "    output_sequence_length=MAX_LENGTH)"
      ],
      "metadata": {
        "id": "keLRJ-Q4Yer1"
      },
      "execution_count": 22,
      "outputs": []
    },
    {
      "cell_type": "code",
      "source": [
        "# Обучение векторизатора на тренировочных данных\n",
        "train_text = train_data.map(lambda text, label: text)\n",
        "vectorize_layer.adapt(train_text)"
      ],
      "metadata": {
        "id": "GGPiRiExZcdU"
      },
      "execution_count": 23,
      "outputs": []
    },
    {
      "cell_type": "code",
      "source": [
        "# Преобразование текстов в числовые последовательности\n",
        "train_data = train_data.map(lambda text, label: (vectorize_layer(text), label))\n",
        "test_data = test_data.map(lambda text, label: (vectorize_layer(text), label))"
      ],
      "metadata": {
        "id": "-T_Ex-ApZfGj"
      },
      "execution_count": 24,
      "outputs": []
    },
    {
      "cell_type": "code",
      "source": [
        "# Подготовка данных с использованием padded_batch\n",
        "train_data = train_data.shuffle(BUFFER_SIZE).padded_batch(BATCH_SIZE)\n",
        "test_data = test_data.padded_batch(BATCH_SIZE)"
      ],
      "metadata": {
        "id": "L0I7Z9N5ZpuX"
      },
      "execution_count": 25,
      "outputs": []
    },
    {
      "cell_type": "code",
      "source": [
        "# Создание модели с Conv1D\n",
        "model = models.Sequential([\n",
        "    layers.Embedding(VOCAB_SIZE, EMBEDDING_DIM, input_length=MAX_LENGTH),\n",
        "    layers.Conv1D(128, 5, activation='relu'),\n",
        "    layers.GlobalMaxPooling1D(),\n",
        "    layers.Dense(64, activation='relu'),\n",
        "    layers.Dense(1, activation='sigmoid')\n",
        "])\n"
      ],
      "metadata": {
        "id": "gsBQuzz_Zu54"
      },
      "execution_count": 26,
      "outputs": []
    },
    {
      "cell_type": "code",
      "source": [
        "# Компиляция модели\n",
        "model.compile(loss='binary_crossentropy',\n",
        "              optimizer='adam',\n",
        "              metrics=['accuracy'])"
      ],
      "metadata": {
        "id": "SDYxR5ySZzI7"
      },
      "execution_count": 27,
      "outputs": []
    },
    {
      "cell_type": "code",
      "source": [
        "# Обучение модели (с уменьшенным числом эпох)\n",
        "history = model.fit(train_data, epochs=5, validation_data=test_data)"
      ],
      "metadata": {
        "colab": {
          "base_uri": "https://localhost:8080/"
        },
        "id": "In6Tt1F2Z9FI",
        "outputId": "291fd14a-f228-4866-c3b7-c54ed6d715e9"
      },
      "execution_count": 28,
      "outputs": [
        {
          "output_type": "stream",
          "name": "stdout",
          "text": [
            "Epoch 1/5\n",
            "\u001b[1m391/391\u001b[0m \u001b[32m━━━━━━━━━━━━━━━━━━━━\u001b[0m\u001b[37m\u001b[0m \u001b[1m65s\u001b[0m 155ms/step - accuracy: 0.6657 - loss: 0.5747 - val_accuracy: 0.8573 - val_loss: 0.3277\n",
            "Epoch 2/5\n",
            "\u001b[1m391/391\u001b[0m \u001b[32m━━━━━━━━━━━━━━━━━━━━\u001b[0m\u001b[37m\u001b[0m \u001b[1m63s\u001b[0m 152ms/step - accuracy: 0.9023 - loss: 0.2411 - val_accuracy: 0.8628 - val_loss: 0.3254\n",
            "Epoch 3/5\n",
            "\u001b[1m391/391\u001b[0m \u001b[32m━━━━━━━━━━━━━━━━━━━━\u001b[0m\u001b[37m\u001b[0m \u001b[1m79s\u001b[0m 145ms/step - accuracy: 0.9684 - loss: 0.0991 - val_accuracy: 0.8623 - val_loss: 0.3750\n",
            "Epoch 4/5\n",
            "\u001b[1m391/391\u001b[0m \u001b[32m━━━━━━━━━━━━━━━━━━━━\u001b[0m\u001b[37m\u001b[0m \u001b[1m82s\u001b[0m 146ms/step - accuracy: 0.9947 - loss: 0.0276 - val_accuracy: 0.8632 - val_loss: 0.4658\n",
            "Epoch 5/5\n",
            "\u001b[1m391/391\u001b[0m \u001b[32m━━━━━━━━━━━━━━━━━━━━\u001b[0m\u001b[37m\u001b[0m \u001b[1m84s\u001b[0m 150ms/step - accuracy: 0.9998 - loss: 0.0039 - val_accuracy: 0.8629 - val_loss: 0.5204\n"
          ]
        }
      ]
    },
    {
      "cell_type": "code",
      "source": [
        "# Извлечение значений точности из истории обучения\n",
        "accuracy = history.history['accuracy']\n",
        "val_accuracy = history.history['val_accuracy']\n",
        "epochs = range(1, len(accuracy) + 1)"
      ],
      "metadata": {
        "id": "fWiQTJlKxixr"
      },
      "execution_count": 35,
      "outputs": []
    },
    {
      "cell_type": "code",
      "source": [
        "import matplotlib.pyplot as plt\n",
        "# Построение графика\n",
        "plt.figure(figsize=(10, 6))\n",
        "plt.plot(epochs, accuracy, 'bo-', label='Training Accuracy')\n",
        "plt.plot(epochs, val_accuracy, 'ro-', label='Validation Accuracy')\n",
        "plt.title('Training and Validation Accuracy')\n",
        "plt.xlabel('Epochs')\n",
        "plt.ylabel('Accuracy')\n",
        "plt.legend()\n",
        "plt.show()"
      ],
      "metadata": {
        "colab": {
          "base_uri": "https://localhost:8080/",
          "height": 564
        },
        "id": "QeM7Iei5xkbj",
        "outputId": "80576221-a19d-4ba1-db92-f76c2d01f3a3"
      },
      "execution_count": 37,
      "outputs": [
        {
          "output_type": "display_data",
          "data": {
            "text/plain": [
              "<Figure size 1000x600 with 1 Axes>"
            ],
            "image/png": "[encoded data removed]"
          },
          "metadata": {}
        }
      ]
    },
    {
      "cell_type": "code",
      "source": [
        "# Оценка модели\n",
        "loss, accuracy = model.evaluate(test_data)\n",
        "print(f\"Test Loss: {loss}\")\n",
        "print(f\"Test Accuracy: {accuracy}\")"
      ],
      "metadata": {
        "colab": {
          "base_uri": "https://localhost:8080/"
        },
        "id": "_RqUjv_hZ97t",
        "outputId": "cc27baf3-fe03-4aa2-efd1-9ea9587b3cd3"
      },
      "execution_count": 29,
      "outputs": [
        {
          "output_type": "stream",
          "name": "stdout",
          "text": [
            "\u001b[1m391/391\u001b[0m \u001b[32m━━━━━━━━━━━━━━━━━━━━\u001b[0m\u001b[37m\u001b[0m \u001b[1m18s\u001b[0m 47ms/step - accuracy: 0.8605 - loss: 0.5338\n",
            "Test Loss: 0.52044677734375\n",
            "Test Accuracy: 0.8629199862480164\n"
          ]
        }
      ]
    },
    {
      "cell_type": "code",
      "source": [
        "import pandas as pd\n",
        "\n",
        "# Выполнение предсказаний на тестовом наборе данных\n",
        "predictions = model.predict(test_data)\n",
        "# Округление предсказаний для получения бинарных значений (0 или 1)\n",
        "predicted_labels = (predictions > 0.5).astype(int).flatten()\n",
        "\n",
        "# Извлечение настоящих меток из тестового набора данных\n",
        "true_labels = []\n",
        "for _, label in test_data:\n",
        "    true_labels.extend(label.numpy())\n",
        "\n",
        "# Создание таблицы\n",
        "df = pd.DataFrame({\n",
        "    'True Label': true_labels,\n",
        "    'Predicted Label': predicted_labels\n",
        "})\n",
        "\n",
        "# Вывод первых 10 строк таблицы\n",
        "print(df.head(20))"
      ],
      "metadata": {
        "colab": {
          "base_uri": "https://localhost:8080/"
        },
        "collapsed": true,
        "id": "fBK_fCJ0fSkV",
        "outputId": "72e20b3f-4d53-4bb6-8bb6-a33871d92ebb"
      },
      "execution_count": 31,
      "outputs": [
        {
          "output_type": "stream",
          "name": "stdout",
          "text": [
            "\u001b[1m391/391\u001b[0m \u001b[32m━━━━━━━━━━━━━━━━━━━━\u001b[0m\u001b[37m\u001b[0m \u001b[1m17s\u001b[0m 44ms/step\n",
            "    True Label  Predicted Label\n",
            "0            1                1\n",
            "1            1                1\n",
            "2            0                0\n",
            "3            0                0\n",
            "4            1                1\n",
            "5            1                1\n",
            "6            1                1\n",
            "7            1                1\n",
            "8            0                0\n",
            "9            1                0\n",
            "10           0                1\n",
            "11           0                1\n",
            "12           1                1\n",
            "13           0                0\n",
            "14           1                1\n",
            "15           0                0\n",
            "16           1                1\n",
            "17           0                0\n",
            "18           1                1\n",
            "19           0                0\n"
          ]
        }
      ]
    },
    {
      "cell_type": "markdown",
      "source": [
        "На семинари была отлично разобрана модель обученная на данных Fashion MNIST. Поэтому решил попробовать релизовать модель обученную на датасете imdb_reviews.\n",
        "Из полученых результатов проверки на тестовой выборке был показан не плохой результат accuracy 0.86, при этом так же можно заметить, что при 2 прогоне модели через слои нейронок идет переобучение модели. В этом случае стоит сократить число эпох до 2 , чтобы снизить нагрузку на систему и увеличить скорость получения желаемого результа. Наверняка, показатель accuracy в 0.86 не максимальный, и для его увеличения можно еще \"поиграть с параметрами\", но на данном этапе этого достаточно.\n",
        "\n",
        "\n",
        "\n"
      ],
      "metadata": {
        "id": "b4xNMECWhC6f"
      }
    }
  ]
}